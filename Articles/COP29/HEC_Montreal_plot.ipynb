{
 "cells": [
  {
   "cell_type": "markdown",
   "metadata": {},
   "source": [
    "Remark: Data is from Our World in Data, all data\n",
    "\n",
    "Hannah Ritchie (2020) - “Sector by sector: where do global greenhouse gas emissions come from?” Published online at OurWorldinData.org. Retrieved from: 'https://ourworldindata.org/ghg-emissions-by-sector' [Online Resource]"
   ]
  },
  {
   "cell_type": "code",
   "execution_count": null,
   "metadata": {},
   "outputs": [
    {
     "name": "stdout",
     "output_type": "stream",
     "text": [
      "Requirement already satisfied: openpyxl in c:\\users\\jonas\\workspace_r\\workspace_vsc\\.conda\\lib\\site-packages (3.1.5)\n",
      "Requirement already satisfied: et-xmlfile in c:\\users\\jonas\\workspace_r\\workspace_vsc\\.conda\\lib\\site-packages (from openpyxl) (2.0.0)\n",
      "Note: you may need to restart the kernel to use updated packages.\n",
      "Requirement already satisfied: kaleido in c:\\users\\jonas\\workspace_r\\workspace_vsc\\.conda\\lib\\site-packages (0.2.1)\n",
      "Note: you may need to restart the kernel to use updated packages.\n"
     ]
    }
   ],
   "source": [
    "#%pip install openpyxl\n",
    "#%pip install kaleido\n",
    "\n",
    "import pandas as pd\n",
    "import plotly.graph_objects as go\n",
    "import plotly.express as px\n",
    "import plotly.io as pio\n",
    "import kaleido"
   ]
  },
  {
   "cell_type": "code",
   "execution_count": 4,
   "metadata": {},
   "outputs": [
    {
     "data": {
      "application/vnd.microsoft.datawrangler.viewer.v0+json": {
       "columns": [
        {
         "name": "index",
         "rawType": "int64",
         "type": "integer"
        },
        {
         "name": "Sector",
         "rawType": "object",
         "type": "string"
        },
        {
         "name": "Sub-sector",
         "rawType": "object",
         "type": "string"
        },
        {
         "name": "Breakdown",
         "rawType": "object",
         "type": "unknown"
        },
        {
         "name": "Share of global greenhouse gas emissions (%)",
         "rawType": "float64",
         "type": "float"
        }
       ],
       "ref": "69871d51-ddc8-477e-9ba8-06f975232a1c",
       "rows": [
        [
         "0",
         "Energy 73.2%",
         "Transport 16.2%",
         "Road",
         "11.9"
        ],
        [
         "1",
         "Energy 73.2%",
         "Transport 16.2%",
         "Aviation",
         "1.9"
        ],
        [
         "2",
         "Energy 73.2%",
         "Transport 16.2%",
         "Rail",
         "0.4"
        ],
        [
         "3",
         "Energy 73.2%",
         "Transport 16.2%",
         "Pipeline",
         "0.3"
        ],
        [
         "4",
         "Energy 73.2%",
         "Transport 16.2%",
         "Ship",
         "1.7"
        ],
        [
         "5",
         "Energy 73.2%",
         "Energy in buildings 17.5%",
         "Residential",
         "10.9"
        ],
        [
         "6",
         "Energy 73.2%",
         "Energy in buildings 17.5%",
         "Commercial",
         "6.6"
        ],
        [
         "7",
         "Energy 73.2%",
         "Energy in industry 24.2%",
         "Iron & Steel",
         "7.2"
        ],
        [
         "8",
         "Energy 73.2%",
         "Energy in industry 24.2%",
         "Non-ferous metals",
         "0.7"
        ],
        [
         "9",
         "Energy 73.2%",
         "Energy in industry 24.2%",
         "Machinery",
         "0.5"
        ],
        [
         "10",
         "Energy 73.2%",
         "Energy in industry 24.2%",
         "Food and tobacco",
         "1.0"
        ],
        [
         "11",
         "Energy 73.2%",
         "Energy in industry 24.2%",
         "Paper, pulp & printing",
         "0.6"
        ],
        [
         "12",
         "Energy 73.2%",
         "Energy in industry 24.2%",
         "(Petro)-chemical energy",
         "3.6"
        ],
        [
         "13",
         "Energy 73.2%",
         "Energy in industry 24.2%",
         "Other industry",
         "10.6"
        ],
        [
         "14",
         "Energy 73.2%",
         "Energy in Agri & Fishing 1.7%",
         null,
         "1.7"
        ],
        [
         "15",
         "Energy 73.2%",
         "Unallocated fuel combustion 7.8%",
         null,
         "7.8"
        ],
        [
         "16",
         "Energy 73.2%",
         "Fugitive emissions from energy 5.8%",
         "Coal",
         "1.9"
        ],
        [
         "17",
         "Energy 73.2%",
         "Fugitive emissions from energy 5.8%",
         "Oil & Natural Gas",
         "3.9"
        ],
        [
         "18",
         "Industrial processes 5.2%",
         "Cement 3%",
         null,
         "3.0"
        ],
        [
         "19",
         "Industrial processes 5.2%",
         "(Petro)-chemical (industrial) 2.2%",
         null,
         "2.2"
        ],
        [
         "20",
         "Waste 3.2%",
         "Landfills 1.9%",
         null,
         "1.9"
        ],
        [
         "21",
         "Waste 3.2%",
         "Wastewater 1.3%",
         null,
         "1.3"
        ],
        [
         "22",
         "Land Use 18.4%",
         "Livestock & Manure 5.8%",
         null,
         "5.8"
        ],
        [
         "23",
         "Land Use 18.4%",
         "Rice Cultivation 1.3%",
         null,
         "1.3"
        ],
        [
         "24",
         "Land Use 18.4%",
         "Agricultural Soils 4.1%",
         null,
         "4.1"
        ],
        [
         "25",
         "Land Use 18.4%",
         "Crop Burning 3.5%",
         null,
         "3.5"
        ],
        [
         "26",
         "Land Use 18.4%",
         "Forest Land 2.2%",
         null,
         "2.2"
        ],
        [
         "27",
         "Land Use 18.4%",
         "Cropland 1.4%",
         null,
         "1.4"
        ],
        [
         "28",
         "Land Use 18.4%",
         "Grassland 0.1%",
         null,
         "0.1"
        ]
       ],
       "shape": {
        "columns": 4,
        "rows": 29
       }
      },
      "text/html": [
       "<div>\n",
       "<style scoped>\n",
       "    .dataframe tbody tr th:only-of-type {\n",
       "        vertical-align: middle;\n",
       "    }\n",
       "\n",
       "    .dataframe tbody tr th {\n",
       "        vertical-align: top;\n",
       "    }\n",
       "\n",
       "    .dataframe thead th {\n",
       "        text-align: right;\n",
       "    }\n",
       "</style>\n",
       "<table border=\"1\" class=\"dataframe\">\n",
       "  <thead>\n",
       "    <tr style=\"text-align: right;\">\n",
       "      <th></th>\n",
       "      <th>Sector</th>\n",
       "      <th>Sub-sector</th>\n",
       "      <th>Breakdown</th>\n",
       "      <th>Share of global greenhouse gas emissions (%)</th>\n",
       "    </tr>\n",
       "  </thead>\n",
       "  <tbody>\n",
       "    <tr>\n",
       "      <th>0</th>\n",
       "      <td>Energy 73.2%</td>\n",
       "      <td>Transport 16.2%</td>\n",
       "      <td>Road</td>\n",
       "      <td>11.9</td>\n",
       "    </tr>\n",
       "    <tr>\n",
       "      <th>1</th>\n",
       "      <td>Energy 73.2%</td>\n",
       "      <td>Transport 16.2%</td>\n",
       "      <td>Aviation</td>\n",
       "      <td>1.9</td>\n",
       "    </tr>\n",
       "    <tr>\n",
       "      <th>2</th>\n",
       "      <td>Energy 73.2%</td>\n",
       "      <td>Transport 16.2%</td>\n",
       "      <td>Rail</td>\n",
       "      <td>0.4</td>\n",
       "    </tr>\n",
       "    <tr>\n",
       "      <th>3</th>\n",
       "      <td>Energy 73.2%</td>\n",
       "      <td>Transport 16.2%</td>\n",
       "      <td>Pipeline</td>\n",
       "      <td>0.3</td>\n",
       "    </tr>\n",
       "    <tr>\n",
       "      <th>4</th>\n",
       "      <td>Energy 73.2%</td>\n",
       "      <td>Transport 16.2%</td>\n",
       "      <td>Ship</td>\n",
       "      <td>1.7</td>\n",
       "    </tr>\n",
       "    <tr>\n",
       "      <th>5</th>\n",
       "      <td>Energy 73.2%</td>\n",
       "      <td>Energy in buildings 17.5%</td>\n",
       "      <td>Residential</td>\n",
       "      <td>10.9</td>\n",
       "    </tr>\n",
       "    <tr>\n",
       "      <th>6</th>\n",
       "      <td>Energy 73.2%</td>\n",
       "      <td>Energy in buildings 17.5%</td>\n",
       "      <td>Commercial</td>\n",
       "      <td>6.6</td>\n",
       "    </tr>\n",
       "    <tr>\n",
       "      <th>7</th>\n",
       "      <td>Energy 73.2%</td>\n",
       "      <td>Energy in industry 24.2%</td>\n",
       "      <td>Iron &amp; Steel</td>\n",
       "      <td>7.2</td>\n",
       "    </tr>\n",
       "    <tr>\n",
       "      <th>8</th>\n",
       "      <td>Energy 73.2%</td>\n",
       "      <td>Energy in industry 24.2%</td>\n",
       "      <td>Non-ferous metals</td>\n",
       "      <td>0.7</td>\n",
       "    </tr>\n",
       "    <tr>\n",
       "      <th>9</th>\n",
       "      <td>Energy 73.2%</td>\n",
       "      <td>Energy in industry 24.2%</td>\n",
       "      <td>Machinery</td>\n",
       "      <td>0.5</td>\n",
       "    </tr>\n",
       "    <tr>\n",
       "      <th>10</th>\n",
       "      <td>Energy 73.2%</td>\n",
       "      <td>Energy in industry 24.2%</td>\n",
       "      <td>Food and tobacco</td>\n",
       "      <td>1.0</td>\n",
       "    </tr>\n",
       "    <tr>\n",
       "      <th>11</th>\n",
       "      <td>Energy 73.2%</td>\n",
       "      <td>Energy in industry 24.2%</td>\n",
       "      <td>Paper, pulp &amp; printing</td>\n",
       "      <td>0.6</td>\n",
       "    </tr>\n",
       "    <tr>\n",
       "      <th>12</th>\n",
       "      <td>Energy 73.2%</td>\n",
       "      <td>Energy in industry 24.2%</td>\n",
       "      <td>(Petro)-chemical energy</td>\n",
       "      <td>3.6</td>\n",
       "    </tr>\n",
       "    <tr>\n",
       "      <th>13</th>\n",
       "      <td>Energy 73.2%</td>\n",
       "      <td>Energy in industry 24.2%</td>\n",
       "      <td>Other industry</td>\n",
       "      <td>10.6</td>\n",
       "    </tr>\n",
       "    <tr>\n",
       "      <th>14</th>\n",
       "      <td>Energy 73.2%</td>\n",
       "      <td>Energy in Agri &amp; Fishing 1.7%</td>\n",
       "      <td>NaN</td>\n",
       "      <td>1.7</td>\n",
       "    </tr>\n",
       "    <tr>\n",
       "      <th>15</th>\n",
       "      <td>Energy 73.2%</td>\n",
       "      <td>Unallocated fuel combustion 7.8%</td>\n",
       "      <td>NaN</td>\n",
       "      <td>7.8</td>\n",
       "    </tr>\n",
       "    <tr>\n",
       "      <th>16</th>\n",
       "      <td>Energy 73.2%</td>\n",
       "      <td>Fugitive emissions from energy 5.8%</td>\n",
       "      <td>Coal</td>\n",
       "      <td>1.9</td>\n",
       "    </tr>\n",
       "    <tr>\n",
       "      <th>17</th>\n",
       "      <td>Energy 73.2%</td>\n",
       "      <td>Fugitive emissions from energy 5.8%</td>\n",
       "      <td>Oil &amp; Natural Gas</td>\n",
       "      <td>3.9</td>\n",
       "    </tr>\n",
       "    <tr>\n",
       "      <th>18</th>\n",
       "      <td>Industrial processes 5.2%</td>\n",
       "      <td>Cement 3%</td>\n",
       "      <td>NaN</td>\n",
       "      <td>3.0</td>\n",
       "    </tr>\n",
       "    <tr>\n",
       "      <th>19</th>\n",
       "      <td>Industrial processes 5.2%</td>\n",
       "      <td>(Petro)-chemical (industrial) 2.2%</td>\n",
       "      <td>NaN</td>\n",
       "      <td>2.2</td>\n",
       "    </tr>\n",
       "    <tr>\n",
       "      <th>20</th>\n",
       "      <td>Waste 3.2%</td>\n",
       "      <td>Landfills 1.9%</td>\n",
       "      <td>NaN</td>\n",
       "      <td>1.9</td>\n",
       "    </tr>\n",
       "    <tr>\n",
       "      <th>21</th>\n",
       "      <td>Waste 3.2%</td>\n",
       "      <td>Wastewater 1.3%</td>\n",
       "      <td>NaN</td>\n",
       "      <td>1.3</td>\n",
       "    </tr>\n",
       "    <tr>\n",
       "      <th>22</th>\n",
       "      <td>Land Use 18.4%</td>\n",
       "      <td>Livestock &amp; Manure 5.8%</td>\n",
       "      <td>NaN</td>\n",
       "      <td>5.8</td>\n",
       "    </tr>\n",
       "    <tr>\n",
       "      <th>23</th>\n",
       "      <td>Land Use 18.4%</td>\n",
       "      <td>Rice Cultivation 1.3%</td>\n",
       "      <td>NaN</td>\n",
       "      <td>1.3</td>\n",
       "    </tr>\n",
       "    <tr>\n",
       "      <th>24</th>\n",
       "      <td>Land Use 18.4%</td>\n",
       "      <td>Agricultural Soils 4.1%</td>\n",
       "      <td>NaN</td>\n",
       "      <td>4.1</td>\n",
       "    </tr>\n",
       "    <tr>\n",
       "      <th>25</th>\n",
       "      <td>Land Use 18.4%</td>\n",
       "      <td>Crop Burning 3.5%</td>\n",
       "      <td>NaN</td>\n",
       "      <td>3.5</td>\n",
       "    </tr>\n",
       "    <tr>\n",
       "      <th>26</th>\n",
       "      <td>Land Use 18.4%</td>\n",
       "      <td>Forest Land 2.2%</td>\n",
       "      <td>NaN</td>\n",
       "      <td>2.2</td>\n",
       "    </tr>\n",
       "    <tr>\n",
       "      <th>27</th>\n",
       "      <td>Land Use 18.4%</td>\n",
       "      <td>Cropland 1.4%</td>\n",
       "      <td>NaN</td>\n",
       "      <td>1.4</td>\n",
       "    </tr>\n",
       "    <tr>\n",
       "      <th>28</th>\n",
       "      <td>Land Use 18.4%</td>\n",
       "      <td>Grassland 0.1%</td>\n",
       "      <td>NaN</td>\n",
       "      <td>0.1</td>\n",
       "    </tr>\n",
       "  </tbody>\n",
       "</table>\n",
       "</div>"
      ],
      "text/plain": [
       "                       Sector                           Sub-sector  \\\n",
       "0                Energy 73.2%                      Transport 16.2%   \n",
       "1                Energy 73.2%                      Transport 16.2%   \n",
       "2                Energy 73.2%                      Transport 16.2%   \n",
       "3                Energy 73.2%                      Transport 16.2%   \n",
       "4                Energy 73.2%                      Transport 16.2%   \n",
       "5                Energy 73.2%            Energy in buildings 17.5%   \n",
       "6                Energy 73.2%            Energy in buildings 17.5%   \n",
       "7                Energy 73.2%             Energy in industry 24.2%   \n",
       "8                Energy 73.2%             Energy in industry 24.2%   \n",
       "9                Energy 73.2%             Energy in industry 24.2%   \n",
       "10               Energy 73.2%             Energy in industry 24.2%   \n",
       "11               Energy 73.2%             Energy in industry 24.2%   \n",
       "12               Energy 73.2%             Energy in industry 24.2%   \n",
       "13               Energy 73.2%             Energy in industry 24.2%   \n",
       "14               Energy 73.2%        Energy in Agri & Fishing 1.7%   \n",
       "15               Energy 73.2%     Unallocated fuel combustion 7.8%   \n",
       "16               Energy 73.2%  Fugitive emissions from energy 5.8%   \n",
       "17               Energy 73.2%  Fugitive emissions from energy 5.8%   \n",
       "18  Industrial processes 5.2%                            Cement 3%   \n",
       "19  Industrial processes 5.2%   (Petro)-chemical (industrial) 2.2%   \n",
       "20                 Waste 3.2%                       Landfills 1.9%   \n",
       "21                 Waste 3.2%                      Wastewater 1.3%   \n",
       "22             Land Use 18.4%              Livestock & Manure 5.8%   \n",
       "23             Land Use 18.4%                Rice Cultivation 1.3%   \n",
       "24             Land Use 18.4%              Agricultural Soils 4.1%   \n",
       "25             Land Use 18.4%                    Crop Burning 3.5%   \n",
       "26             Land Use 18.4%                     Forest Land 2.2%   \n",
       "27             Land Use 18.4%                        Cropland 1.4%   \n",
       "28             Land Use 18.4%                       Grassland 0.1%   \n",
       "\n",
       "                  Breakdown  Share of global greenhouse gas emissions (%)  \n",
       "0                      Road                                          11.9  \n",
       "1                  Aviation                                           1.9  \n",
       "2                      Rail                                           0.4  \n",
       "3                  Pipeline                                           0.3  \n",
       "4                      Ship                                           1.7  \n",
       "5               Residential                                          10.9  \n",
       "6                Commercial                                           6.6  \n",
       "7              Iron & Steel                                           7.2  \n",
       "8         Non-ferous metals                                           0.7  \n",
       "9                 Machinery                                           0.5  \n",
       "10         Food and tobacco                                           1.0  \n",
       "11   Paper, pulp & printing                                           0.6  \n",
       "12  (Petro)-chemical energy                                           3.6  \n",
       "13           Other industry                                          10.6  \n",
       "14                      NaN                                           1.7  \n",
       "15                      NaN                                           7.8  \n",
       "16                     Coal                                           1.9  \n",
       "17        Oil & Natural Gas                                           3.9  \n",
       "18                      NaN                                           3.0  \n",
       "19                      NaN                                           2.2  \n",
       "20                      NaN                                           1.9  \n",
       "21                      NaN                                           1.3  \n",
       "22                      NaN                                           5.8  \n",
       "23                      NaN                                           1.3  \n",
       "24                      NaN                                           4.1  \n",
       "25                      NaN                                           3.5  \n",
       "26                      NaN                                           2.2  \n",
       "27                      NaN                                           1.4  \n",
       "28                      NaN                                           0.1  "
      ]
     },
     "execution_count": 4,
     "metadata": {},
     "output_type": "execute_result"
    }
   ],
   "source": [
    "data = pd.read_excel('Global_GHG.xlsx')\n",
    "data"
   ]
  },
  {
   "cell_type": "code",
   "execution_count": 5,
   "metadata": {},
   "outputs": [],
   "source": [
    "# copy values if necessary to fill NaNs / make everything a string\n",
    "data['Breakdown_with_percentage'] = data.apply(\n",
    "    lambda row: f\"{row['Breakdown']} {row['Share of global greenhouse gas emissions (%)']:.1f}%\" \n",
    "    if pd.notnull(row['Breakdown']) else row['Sub-sector'],\n",
    "    axis=1\n",
    ")\n",
    "# Mainly time constrained -> first best solution i could think of"
   ]
  },
  {
   "cell_type": "code",
   "execution_count": 6,
   "metadata": {},
   "outputs": [
    {
     "data": {
      "application/vnd.plotly.v1+json": {
       "config": {
        "plotlyServerURL": "https://plot.ly"
       },
       "data": [
        {
         "branchvalues": "total",
         "customdata": [
          [
           "Energy in industry 24.2%"
          ],
          [
           "Rice Cultivation 1.3%"
          ],
          [
           "Fugitive emissions from energy 5.8%"
          ],
          [
           "Transport 16.2%"
          ],
          [
           "Unallocated fuel combustion 7.8%"
          ],
          [
           "Landfills 1.9%"
          ],
          [
           "Fugitive emissions from energy 5.8%"
          ],
          [
           "Energy in buildings 17.5%"
          ],
          [
           "Energy in industry 24.2%"
          ],
          [
           "Grassland 0.1%"
          ],
          [
           "Forest Land 2.2%"
          ],
          [
           "Cropland 1.4%"
          ],
          [
           "Energy in Agri & Fishing 1.7%"
          ],
          [
           "Crop Burning 3.5%"
          ],
          [
           "Energy in industry 24.2%"
          ],
          [
           "Transport 16.2%"
          ],
          [
           "Energy in industry 24.2%"
          ],
          [
           "Energy in industry 24.2%"
          ],
          [
           "Wastewater 1.3%"
          ],
          [
           "Energy in industry 24.2%"
          ],
          [
           "Transport 16.2%"
          ],
          [
           "Energy in buildings 17.5%"
          ],
          [
           "Cement 3%"
          ],
          [
           "Transport 16.2%"
          ],
          [
           "Agricultural Soils 4.1%"
          ],
          [
           "Energy in industry 24.2%"
          ],
          [
           "(Petro)-chemical (industrial) 2.2%"
          ],
          [
           "Livestock & Manure 5.8%"
          ],
          [
           "Transport 16.2%"
          ],
          [
           "(Petro)-chemical (industrial) 2.2%"
          ],
          [
           "Agricultural Soils 4.1%"
          ],
          [
           "Cement 3%"
          ],
          [
           "Crop Burning 3.5%"
          ],
          [
           "Cropland 1.4%"
          ],
          [
           "Energy in Agri & Fishing 1.7%"
          ],
          [
           "Energy in buildings 17.5%"
          ],
          [
           "Energy in industry 24.2%"
          ],
          [
           "Forest Land 2.2%"
          ],
          [
           "Fugitive emissions from energy 5.8%"
          ],
          [
           "Grassland 0.1%"
          ],
          [
           "Landfills 1.9%"
          ],
          [
           "Livestock & Manure 5.8%"
          ],
          [
           "Rice Cultivation 1.3%"
          ],
          [
           "Transport 16.2%"
          ],
          [
           "Unallocated fuel combustion 7.8%"
          ],
          [
           "Wastewater 1.3%"
          ],
          [
           "(?)"
          ],
          [
           "(?)"
          ],
          [
           "(?)"
          ],
          [
           "(?)"
          ]
         ],
         "domain": {
          "x": [
           0,
           1
          ],
          "y": [
           0,
           1
          ]
         },
         "hovertemplate": "labels=%{label}<br>Share of global greenhouse gas emissions (%)=%{value}<br>parent=%{parent}<br>id=%{id}<br>Sub-sector=%{customdata[0]}<extra></extra>",
         "ids": [
          "Energy 73.2%/Energy in industry 24.2%/Other industry 10.6%",
          "Land Use 18.4%/Rice Cultivation 1.3%/Rice Cultivation 1.3%",
          "Energy 73.2%/Fugitive emissions from energy 5.8%/Oil & Natural Gas 3.9%",
          "Energy 73.2%/Transport 16.2%/Road 11.9%",
          "Energy 73.2%/Unallocated fuel combustion 7.8%/Unallocated fuel combustion 7.8%",
          "Waste 3.2%/Landfills 1.9%/Landfills 1.9%",
          "Energy 73.2%/Fugitive emissions from energy 5.8%/Coal 1.9%",
          "Energy 73.2%/Energy in buildings 17.5%/Commercial 6.6%",
          "Energy 73.2%/Energy in industry 24.2%/Iron & Steel 7.2%",
          "Land Use 18.4%/Grassland 0.1%/Grassland 0.1%",
          "Land Use 18.4%/Forest Land 2.2%/Forest Land 2.2%",
          "Land Use 18.4%/Cropland 1.4%/Cropland 1.4%",
          "Energy 73.2%/Energy in Agri & Fishing 1.7%/Energy in Agri & Fishing 1.7%",
          "Land Use 18.4%/Crop Burning 3.5%/Crop Burning 3.5%",
          "Energy 73.2%/Energy in industry 24.2%/Food and tobacco 1.0%",
          "Energy 73.2%/Transport 16.2%/Ship 1.7%",
          "Energy 73.2%/Energy in industry 24.2%/Machinery 0.5%",
          "Energy 73.2%/Energy in industry 24.2%/Non-ferous metals 0.7%",
          "Waste 3.2%/Wastewater 1.3%/Wastewater 1.3%",
          "Energy 73.2%/Energy in industry 24.2%/Paper, pulp & printing 0.6%",
          "Energy 73.2%/Transport 16.2%/Rail 0.4%",
          "Energy 73.2%/Energy in buildings 17.5%/Residential 10.9%",
          "Industrial processes 5.2%/Cement 3%/Cement 3%",
          "Energy 73.2%/Transport 16.2%/Aviation 1.9%",
          "Land Use 18.4%/Agricultural Soils 4.1%/Agricultural Soils 4.1%",
          "Energy 73.2%/Energy in industry 24.2%/(Petro)-chemical energy 3.6%",
          "Industrial processes 5.2%/(Petro)-chemical (industrial) 2.2%/(Petro)-chemical (industrial) 2.2%",
          "Land Use 18.4%/Livestock & Manure 5.8%/Livestock & Manure 5.8%",
          "Energy 73.2%/Transport 16.2%/Pipeline 0.3%",
          "Industrial processes 5.2%/(Petro)-chemical (industrial) 2.2%",
          "Land Use 18.4%/Agricultural Soils 4.1%",
          "Industrial processes 5.2%/Cement 3%",
          "Land Use 18.4%/Crop Burning 3.5%",
          "Land Use 18.4%/Cropland 1.4%",
          "Energy 73.2%/Energy in Agri & Fishing 1.7%",
          "Energy 73.2%/Energy in buildings 17.5%",
          "Energy 73.2%/Energy in industry 24.2%",
          "Land Use 18.4%/Forest Land 2.2%",
          "Energy 73.2%/Fugitive emissions from energy 5.8%",
          "Land Use 18.4%/Grassland 0.1%",
          "Waste 3.2%/Landfills 1.9%",
          "Land Use 18.4%/Livestock & Manure 5.8%",
          "Land Use 18.4%/Rice Cultivation 1.3%",
          "Energy 73.2%/Transport 16.2%",
          "Energy 73.2%/Unallocated fuel combustion 7.8%",
          "Waste 3.2%/Wastewater 1.3%",
          "Energy 73.2%",
          "Industrial processes 5.2%",
          "Land Use 18.4%",
          "Waste 3.2%"
         ],
         "insidetextorientation": "radial",
         "labels": [
          "Other industry 10.6%",
          "Rice Cultivation 1.3%",
          "Oil & Natural Gas 3.9%",
          "Road 11.9%",
          "Unallocated fuel combustion 7.8%",
          "Landfills 1.9%",
          "Coal 1.9%",
          "Commercial 6.6%",
          "Iron & Steel 7.2%",
          "Grassland 0.1%",
          "Forest Land 2.2%",
          "Cropland 1.4%",
          "Energy in Agri & Fishing 1.7%",
          "Crop Burning 3.5%",
          "Food and tobacco 1.0%",
          "Ship 1.7%",
          "Machinery 0.5%",
          "Non-ferous metals 0.7%",
          "Wastewater 1.3%",
          "Paper, pulp & printing 0.6%",
          "Rail 0.4%",
          "Residential 10.9%",
          "Cement 3%",
          "Aviation 1.9%",
          "Agricultural Soils 4.1%",
          "(Petro)-chemical energy 3.6%",
          "(Petro)-chemical (industrial) 2.2%",
          "Livestock & Manure 5.8%",
          "Pipeline 0.3%",
          "(Petro)-chemical (industrial) 2.2%",
          "Agricultural Soils 4.1%",
          "Cement 3%",
          "Crop Burning 3.5%",
          "Cropland 1.4%",
          "Energy in Agri & Fishing 1.7%",
          "Energy in buildings 17.5%",
          "Energy in industry 24.2%",
          "Forest Land 2.2%",
          "Fugitive emissions from energy 5.8%",
          "Grassland 0.1%",
          "Landfills 1.9%",
          "Livestock & Manure 5.8%",
          "Rice Cultivation 1.3%",
          "Transport 16.2%",
          "Unallocated fuel combustion 7.8%",
          "Wastewater 1.3%",
          "Energy 73.2%",
          "Industrial processes 5.2%",
          "Land Use 18.4%",
          "Waste 3.2%"
         ],
         "marker": {
          "colors": [
           "#00224e",
           "#123570",
           "#3b496c",
           "#575d6d",
           "#707173",
           "#8a8678",
           "#3b496c",
           "#a59c74",
           "#00224e",
           "#c3b369",
           "#e1cc55",
           "#fee838",
           "#00224e",
           "#123570",
           "#00224e",
           "#575d6d",
           "#00224e",
           "#00224e",
           "#3b496c",
           "#00224e",
           "#575d6d",
           "#a59c74",
           "#575d6d",
           "#575d6d",
           "#707173",
           "#00224e",
           "#8a8678",
           "#a59c74",
           "#575d6d",
           "#8a8678",
           "#707173",
           "#575d6d",
           "#123570",
           "#fee838",
           "#00224e",
           "#a59c74",
           "#00224e",
           "#e1cc55",
           "#3b496c",
           "#c3b369",
           "#8a8678",
           "#a59c74",
           "#123570",
           "#575d6d",
           "#707173",
           "#3b496c",
           "#c3b369",
           "#c3b369",
           "#c3b369",
           "#c3b369"
          ],
          "line": {
           "color": "white",
           "width": 2
          }
         },
         "name": "",
         "parents": [
          "Energy 73.2%/Energy in industry 24.2%",
          "Land Use 18.4%/Rice Cultivation 1.3%",
          "Energy 73.2%/Fugitive emissions from energy 5.8%",
          "Energy 73.2%/Transport 16.2%",
          "Energy 73.2%/Unallocated fuel combustion 7.8%",
          "Waste 3.2%/Landfills 1.9%",
          "Energy 73.2%/Fugitive emissions from energy 5.8%",
          "Energy 73.2%/Energy in buildings 17.5%",
          "Energy 73.2%/Energy in industry 24.2%",
          "Land Use 18.4%/Grassland 0.1%",
          "Land Use 18.4%/Forest Land 2.2%",
          "Land Use 18.4%/Cropland 1.4%",
          "Energy 73.2%/Energy in Agri & Fishing 1.7%",
          "Land Use 18.4%/Crop Burning 3.5%",
          "Energy 73.2%/Energy in industry 24.2%",
          "Energy 73.2%/Transport 16.2%",
          "Energy 73.2%/Energy in industry 24.2%",
          "Energy 73.2%/Energy in industry 24.2%",
          "Waste 3.2%/Wastewater 1.3%",
          "Energy 73.2%/Energy in industry 24.2%",
          "Energy 73.2%/Transport 16.2%",
          "Energy 73.2%/Energy in buildings 17.5%",
          "Industrial processes 5.2%/Cement 3%",
          "Energy 73.2%/Transport 16.2%",
          "Land Use 18.4%/Agricultural Soils 4.1%",
          "Energy 73.2%/Energy in industry 24.2%",
          "Industrial processes 5.2%/(Petro)-chemical (industrial) 2.2%",
          "Land Use 18.4%/Livestock & Manure 5.8%",
          "Energy 73.2%/Transport 16.2%",
          "Industrial processes 5.2%",
          "Land Use 18.4%",
          "Industrial processes 5.2%",
          "Land Use 18.4%",
          "Land Use 18.4%",
          "Energy 73.2%",
          "Energy 73.2%",
          "Energy 73.2%",
          "Land Use 18.4%",
          "Energy 73.2%",
          "Land Use 18.4%",
          "Waste 3.2%",
          "Land Use 18.4%",
          "Land Use 18.4%",
          "Energy 73.2%",
          "Energy 73.2%",
          "Waste 3.2%",
          "",
          "",
          "",
          ""
         ],
         "type": "sunburst",
         "values": [
          10.6,
          1.3,
          3.9,
          11.9,
          7.8,
          1.9,
          1.9,
          6.6,
          7.2,
          0.1,
          2.2,
          1.4,
          1.7,
          3.5,
          1,
          1.7,
          0.5,
          0.7,
          1.3,
          0.6,
          0.4,
          10.9,
          3,
          1.9,
          4.1,
          3.6,
          2.2,
          5.8,
          0.3,
          2.2,
          4.1,
          3,
          3.5,
          1.4,
          1.7,
          17.5,
          24.2,
          2.2,
          5.8,
          0.1,
          1.9,
          5.8,
          1.3,
          16.2,
          7.8,
          1.3,
          73.2,
          5.2,
          18.4,
          3.2
         ]
        }
       ],
       "layout": {
        "annotations": [
         {
          "font": {
           "size": 14
          },
          "showarrow": false,
          "text": "Les gaz à effet de serre selon les secteurs, afin d'identifier des secteurs qu'on pourrait cibler par des traités sectoriels.",
          "x": 0.5,
          "y": -0.05
         },
         {
          "font": {
           "size": 14
          },
          "showarrow": false,
          "text": "Source: Our World in Data",
          "x": 0.5,
          "y": -0.075
         }
        ],
        "height": 1000,
        "legend": {
         "tracegroupgap": 0
        },
        "sunburstcolorway": [
         "#00224e",
         "#123570",
         "#3b496c",
         "#575d6d",
         "#707173",
         "#8a8678",
         "#a59c74",
         "#c3b369",
         "#e1cc55",
         "#fee838"
        ],
        "template": {
         "data": {
          "bar": [
           {
            "error_x": {
             "color": "#2a3f5f"
            },
            "error_y": {
             "color": "#2a3f5f"
            },
            "marker": {
             "line": {
              "color": "#E5ECF6",
              "width": 0.5
             },
             "pattern": {
              "fillmode": "overlay",
              "size": 10,
              "solidity": 0.2
             }
            },
            "type": "bar"
           }
          ],
          "barpolar": [
           {
            "marker": {
             "line": {
              "color": "#E5ECF6",
              "width": 0.5
             },
             "pattern": {
              "fillmode": "overlay",
              "size": 10,
              "solidity": 0.2
             }
            },
            "type": "barpolar"
           }
          ],
          "carpet": [
           {
            "aaxis": {
             "endlinecolor": "#2a3f5f",
             "gridcolor": "white",
             "linecolor": "white",
             "minorgridcolor": "white",
             "startlinecolor": "#2a3f5f"
            },
            "baxis": {
             "endlinecolor": "#2a3f5f",
             "gridcolor": "white",
             "linecolor": "white",
             "minorgridcolor": "white",
             "startlinecolor": "#2a3f5f"
            },
            "type": "carpet"
           }
          ],
          "choropleth": [
           {
            "colorbar": {
             "outlinewidth": 0,
             "ticks": ""
            },
            "type": "choropleth"
           }
          ],
          "contour": [
           {
            "colorbar": {
             "outlinewidth": 0,
             "ticks": ""
            },
            "colorscale": [
             [
              0,
              "#0d0887"
             ],
             [
              0.1111111111111111,
              "#46039f"
             ],
             [
              0.2222222222222222,
              "#7201a8"
             ],
             [
              0.3333333333333333,
              "#9c179e"
             ],
             [
              0.4444444444444444,
              "#bd3786"
             ],
             [
              0.5555555555555556,
              "#d8576b"
             ],
             [
              0.6666666666666666,
              "#ed7953"
             ],
             [
              0.7777777777777778,
              "#fb9f3a"
             ],
             [
              0.8888888888888888,
              "#fdca26"
             ],
             [
              1,
              "#f0f921"
             ]
            ],
            "type": "contour"
           }
          ],
          "contourcarpet": [
           {
            "colorbar": {
             "outlinewidth": 0,
             "ticks": ""
            },
            "type": "contourcarpet"
           }
          ],
          "heatmap": [
           {
            "colorbar": {
             "outlinewidth": 0,
             "ticks": ""
            },
            "colorscale": [
             [
              0,
              "#0d0887"
             ],
             [
              0.1111111111111111,
              "#46039f"
             ],
             [
              0.2222222222222222,
              "#7201a8"
             ],
             [
              0.3333333333333333,
              "#9c179e"
             ],
             [
              0.4444444444444444,
              "#bd3786"
             ],
             [
              0.5555555555555556,
              "#d8576b"
             ],
             [
              0.6666666666666666,
              "#ed7953"
             ],
             [
              0.7777777777777778,
              "#fb9f3a"
             ],
             [
              0.8888888888888888,
              "#fdca26"
             ],
             [
              1,
              "#f0f921"
             ]
            ],
            "type": "heatmap"
           }
          ],
          "heatmapgl": [
           {
            "colorbar": {
             "outlinewidth": 0,
             "ticks": ""
            },
            "colorscale": [
             [
              0,
              "#0d0887"
             ],
             [
              0.1111111111111111,
              "#46039f"
             ],
             [
              0.2222222222222222,
              "#7201a8"
             ],
             [
              0.3333333333333333,
              "#9c179e"
             ],
             [
              0.4444444444444444,
              "#bd3786"
             ],
             [
              0.5555555555555556,
              "#d8576b"
             ],
             [
              0.6666666666666666,
              "#ed7953"
             ],
             [
              0.7777777777777778,
              "#fb9f3a"
             ],
             [
              0.8888888888888888,
              "#fdca26"
             ],
             [
              1,
              "#f0f921"
             ]
            ],
            "type": "heatmapgl"
           }
          ],
          "histogram": [
           {
            "marker": {
             "pattern": {
              "fillmode": "overlay",
              "size": 10,
              "solidity": 0.2
             }
            },
            "type": "histogram"
           }
          ],
          "histogram2d": [
           {
            "colorbar": {
             "outlinewidth": 0,
             "ticks": ""
            },
            "colorscale": [
             [
              0,
              "#0d0887"
             ],
             [
              0.1111111111111111,
              "#46039f"
             ],
             [
              0.2222222222222222,
              "#7201a8"
             ],
             [
              0.3333333333333333,
              "#9c179e"
             ],
             [
              0.4444444444444444,
              "#bd3786"
             ],
             [
              0.5555555555555556,
              "#d8576b"
             ],
             [
              0.6666666666666666,
              "#ed7953"
             ],
             [
              0.7777777777777778,
              "#fb9f3a"
             ],
             [
              0.8888888888888888,
              "#fdca26"
             ],
             [
              1,
              "#f0f921"
             ]
            ],
            "type": "histogram2d"
           }
          ],
          "histogram2dcontour": [
           {
            "colorbar": {
             "outlinewidth": 0,
             "ticks": ""
            },
            "colorscale": [
             [
              0,
              "#0d0887"
             ],
             [
              0.1111111111111111,
              "#46039f"
             ],
             [
              0.2222222222222222,
              "#7201a8"
             ],
             [
              0.3333333333333333,
              "#9c179e"
             ],
             [
              0.4444444444444444,
              "#bd3786"
             ],
             [
              0.5555555555555556,
              "#d8576b"
             ],
             [
              0.6666666666666666,
              "#ed7953"
             ],
             [
              0.7777777777777778,
              "#fb9f3a"
             ],
             [
              0.8888888888888888,
              "#fdca26"
             ],
             [
              1,
              "#f0f921"
             ]
            ],
            "type": "histogram2dcontour"
           }
          ],
          "mesh3d": [
           {
            "colorbar": {
             "outlinewidth": 0,
             "ticks": ""
            },
            "type": "mesh3d"
           }
          ],
          "parcoords": [
           {
            "line": {
             "colorbar": {
              "outlinewidth": 0,
              "ticks": ""
             }
            },
            "type": "parcoords"
           }
          ],
          "pie": [
           {
            "automargin": true,
            "type": "pie"
           }
          ],
          "scatter": [
           {
            "fillpattern": {
             "fillmode": "overlay",
             "size": 10,
             "solidity": 0.2
            },
            "type": "scatter"
           }
          ],
          "scatter3d": [
           {
            "line": {
             "colorbar": {
              "outlinewidth": 0,
              "ticks": ""
             }
            },
            "marker": {
             "colorbar": {
              "outlinewidth": 0,
              "ticks": ""
             }
            },
            "type": "scatter3d"
           }
          ],
          "scattercarpet": [
           {
            "marker": {
             "colorbar": {
              "outlinewidth": 0,
              "ticks": ""
             }
            },
            "type": "scattercarpet"
           }
          ],
          "scattergeo": [
           {
            "marker": {
             "colorbar": {
              "outlinewidth": 0,
              "ticks": ""
             }
            },
            "type": "scattergeo"
           }
          ],
          "scattergl": [
           {
            "marker": {
             "colorbar": {
              "outlinewidth": 0,
              "ticks": ""
             }
            },
            "type": "scattergl"
           }
          ],
          "scattermapbox": [
           {
            "marker": {
             "colorbar": {
              "outlinewidth": 0,
              "ticks": ""
             }
            },
            "type": "scattermapbox"
           }
          ],
          "scatterpolar": [
           {
            "marker": {
             "colorbar": {
              "outlinewidth": 0,
              "ticks": ""
             }
            },
            "type": "scatterpolar"
           }
          ],
          "scatterpolargl": [
           {
            "marker": {
             "colorbar": {
              "outlinewidth": 0,
              "ticks": ""
             }
            },
            "type": "scatterpolargl"
           }
          ],
          "scatterternary": [
           {
            "marker": {
             "colorbar": {
              "outlinewidth": 0,
              "ticks": ""
             }
            },
            "type": "scatterternary"
           }
          ],
          "surface": [
           {
            "colorbar": {
             "outlinewidth": 0,
             "ticks": ""
            },
            "colorscale": [
             [
              0,
              "#0d0887"
             ],
             [
              0.1111111111111111,
              "#46039f"
             ],
             [
              0.2222222222222222,
              "#7201a8"
             ],
             [
              0.3333333333333333,
              "#9c179e"
             ],
             [
              0.4444444444444444,
              "#bd3786"
             ],
             [
              0.5555555555555556,
              "#d8576b"
             ],
             [
              0.6666666666666666,
              "#ed7953"
             ],
             [
              0.7777777777777778,
              "#fb9f3a"
             ],
             [
              0.8888888888888888,
              "#fdca26"
             ],
             [
              1,
              "#f0f921"
             ]
            ],
            "type": "surface"
           }
          ],
          "table": [
           {
            "cells": {
             "fill": {
              "color": "#EBF0F8"
             },
             "line": {
              "color": "white"
             }
            },
            "header": {
             "fill": {
              "color": "#C8D4E3"
             },
             "line": {
              "color": "white"
             }
            },
            "type": "table"
           }
          ]
         },
         "layout": {
          "annotationdefaults": {
           "arrowcolor": "#2a3f5f",
           "arrowhead": 0,
           "arrowwidth": 1
          },
          "autotypenumbers": "strict",
          "coloraxis": {
           "colorbar": {
            "outlinewidth": 0,
            "ticks": ""
           }
          },
          "colorscale": {
           "diverging": [
            [
             0,
             "#8e0152"
            ],
            [
             0.1,
             "#c51b7d"
            ],
            [
             0.2,
             "#de77ae"
            ],
            [
             0.3,
             "#f1b6da"
            ],
            [
             0.4,
             "#fde0ef"
            ],
            [
             0.5,
             "#f7f7f7"
            ],
            [
             0.6,
             "#e6f5d0"
            ],
            [
             0.7,
             "#b8e186"
            ],
            [
             0.8,
             "#7fbc41"
            ],
            [
             0.9,
             "#4d9221"
            ],
            [
             1,
             "#276419"
            ]
           ],
           "sequential": [
            [
             0,
             "#0d0887"
            ],
            [
             0.1111111111111111,
             "#46039f"
            ],
            [
             0.2222222222222222,
             "#7201a8"
            ],
            [
             0.3333333333333333,
             "#9c179e"
            ],
            [
             0.4444444444444444,
             "#bd3786"
            ],
            [
             0.5555555555555556,
             "#d8576b"
            ],
            [
             0.6666666666666666,
             "#ed7953"
            ],
            [
             0.7777777777777778,
             "#fb9f3a"
            ],
            [
             0.8888888888888888,
             "#fdca26"
            ],
            [
             1,
             "#f0f921"
            ]
           ],
           "sequentialminus": [
            [
             0,
             "#0d0887"
            ],
            [
             0.1111111111111111,
             "#46039f"
            ],
            [
             0.2222222222222222,
             "#7201a8"
            ],
            [
             0.3333333333333333,
             "#9c179e"
            ],
            [
             0.4444444444444444,
             "#bd3786"
            ],
            [
             0.5555555555555556,
             "#d8576b"
            ],
            [
             0.6666666666666666,
             "#ed7953"
            ],
            [
             0.7777777777777778,
             "#fb9f3a"
            ],
            [
             0.8888888888888888,
             "#fdca26"
            ],
            [
             1,
             "#f0f921"
            ]
           ]
          },
          "colorway": [
           "#636efa",
           "#EF553B",
           "#00cc96",
           "#ab63fa",
           "#FFA15A",
           "#19d3f3",
           "#FF6692",
           "#B6E880",
           "#FF97FF",
           "#FECB52"
          ],
          "font": {
           "color": "#2a3f5f"
          },
          "geo": {
           "bgcolor": "white",
           "lakecolor": "white",
           "landcolor": "#E5ECF6",
           "showlakes": true,
           "showland": true,
           "subunitcolor": "white"
          },
          "hoverlabel": {
           "align": "left"
          },
          "hovermode": "closest",
          "mapbox": {
           "style": "light"
          },
          "paper_bgcolor": "white",
          "plot_bgcolor": "#E5ECF6",
          "polar": {
           "angularaxis": {
            "gridcolor": "white",
            "linecolor": "white",
            "ticks": ""
           },
           "bgcolor": "#E5ECF6",
           "radialaxis": {
            "gridcolor": "white",
            "linecolor": "white",
            "ticks": ""
           }
          },
          "scene": {
           "xaxis": {
            "backgroundcolor": "#E5ECF6",
            "gridcolor": "white",
            "gridwidth": 2,
            "linecolor": "white",
            "showbackground": true,
            "ticks": "",
            "zerolinecolor": "white"
           },
           "yaxis": {
            "backgroundcolor": "#E5ECF6",
            "gridcolor": "white",
            "gridwidth": 2,
            "linecolor": "white",
            "showbackground": true,
            "ticks": "",
            "zerolinecolor": "white"
           },
           "zaxis": {
            "backgroundcolor": "#E5ECF6",
            "gridcolor": "white",
            "gridwidth": 2,
            "linecolor": "white",
            "showbackground": true,
            "ticks": "",
            "zerolinecolor": "white"
           }
          },
          "shapedefaults": {
           "line": {
            "color": "#2a3f5f"
           }
          },
          "ternary": {
           "aaxis": {
            "gridcolor": "white",
            "linecolor": "white",
            "ticks": ""
           },
           "baxis": {
            "gridcolor": "white",
            "linecolor": "white",
            "ticks": ""
           },
           "bgcolor": "#E5ECF6",
           "caxis": {
            "gridcolor": "white",
            "linecolor": "white",
            "ticks": ""
           }
          },
          "title": {
           "x": 0.05
          },
          "xaxis": {
           "automargin": true,
           "gridcolor": "white",
           "linecolor": "white",
           "ticks": "",
           "title": {
            "standoff": 15
           },
           "zerolinecolor": "white",
           "zerolinewidth": 2
          },
          "yaxis": {
           "automargin": true,
           "gridcolor": "white",
           "linecolor": "white",
           "ticks": "",
           "title": {
            "standoff": 15
           },
           "zerolinecolor": "white",
           "zerolinewidth": 2
          }
         }
        },
        "title": {
         "font": {
          "size": 24
         },
         "text": "Les gaz effet de serre selon les secteurs",
         "x": 0.5
        },
        "width": 1000
       }
      }
     },
     "metadata": {},
     "output_type": "display_data"
    }
   ],
   "source": [
    "# Sunburst chart\n",
    "fig_sunburst = px.sunburst(\n",
    "    data.dropna(subset=['Breakdown_with_percentage']),\n",
    "    path=['Sector', 'Sub-sector', 'Breakdown_with_percentage'],\n",
    "    values='Share of global greenhouse gas emissions (%)',\n",
    "    color='Sub-sector',  # Color by the sub-sectors\n",
    "    color_discrete_sequence=px.colors.sequential.Cividis,  # Use the 'Plotly' color scale\n",
    "    title='Les gaz effet de serre selon les secteurs'\n",
    ")\n",
    "\n",
    "# Layout & dimensions\n",
    "fig_sunburst.update_layout(\n",
    "    width=1000,\n",
    "    height=1000,\n",
    "    title_x=0.5,  # Centralize the chart title\n",
    "    title_font=dict(size=24)  # Increase the size of the title\n",
    ")\n",
    "\n",
    "# Describtion\n",
    "annotations = [\n",
    "    dict(\n",
    "        text=\"Les gaz à effet de serre selon les secteurs, afin d'identifier des secteurs qu'on pourrait cibler par des traités sectoriels.\",\n",
    "        x=0.5,\n",
    "        y=-0.05,\n",
    "        showarrow=False,\n",
    "        font=dict(size=14)\n",
    "    )\n",
    "]\n",
    "\n",
    "#Make annotations\n",
    "annotations.append(\n",
    "    dict(\n",
    "        text=\"Source: Our World in Data\",\n",
    "        x=0.5,\n",
    "        y=-0.075,\n",
    "        showarrow=False,\n",
    "        font=dict(size=14)\n",
    "    )\n",
    ")\n",
    "# add them\n",
    "fig_sunburst.update_layout(annotations=annotations)\n",
    "\n",
    "# addtitional borders\n",
    "fig_sunburst.update_traces(\n",
    "    insidetextorientation='radial',\n",
    "    marker=dict(line=dict(color='white', width=2))\n",
    ")\n",
    "\n",
    "fig_sunburst.show()\n"
   ]
  }
 ],
 "metadata": {
  "kernelspec": {
   "display_name": ".conda",
   "language": "python",
   "name": "python3"
  },
  "language_info": {
   "codemirror_mode": {
    "name": "ipython",
    "version": 3
   },
   "file_extension": ".py",
   "mimetype": "text/x-python",
   "name": "python",
   "nbconvert_exporter": "python",
   "pygments_lexer": "ipython3",
   "version": "3.11.8"
  }
 },
 "nbformat": 4,
 "nbformat_minor": 2
}
